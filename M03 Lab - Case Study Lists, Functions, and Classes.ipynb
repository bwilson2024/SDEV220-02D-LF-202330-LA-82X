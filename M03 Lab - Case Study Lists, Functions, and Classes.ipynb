{
 "cells": [
  {
   "cell_type": "code",
   "execution_count": null,
   "id": "dbdb1913",
   "metadata": {},
   "outputs": [],
   "source": [
    "## Complete the following steps:\n",
    "## Write a Python app that has the following classes:\n",
    "## A super class called Vehicle, which contains an attribute for vehicle type, such as car, truck, plane, boat, or a broomstick.\n",
    "## A class called Automobile which will inherit the attributes from Vehicle and also contain the following attributes:\n",
    "## year\n",
    "## make\n",
    "## model\n",
    "## doors (2 or 4)\n",
    "## roof (solid or sun roof).\n",
    "## Write an app that will accept user input for a car. The app will store \"car\" into the vehicle type in your Vehicle super class. \n",
    "## The app will then ask the user for the year, make, model, doors, and type of roof and store thdata in the attributes above.\n",
    "## The app will then output the data in an easy-to-read and understandable format, such as this:\n",
    "  ## Vehicle type: car\n",
    "  ## Year: 2022\n",
    "  ## Make: Toyota\n",
    "  ## Model: Corolla\n",
    "  ## Number of doors: 4\n",
    "  ## Type of roof: sun roof"
   ]
  },
  {
   "cell_type": "code",
   "execution_count": 15,
   "id": "0b0dea3d",
   "metadata": {},
   "outputs": [
    {
     "name": "stdout",
     "output_type": "stream",
     "text": [
      "Enter the year of the Automobile: 1988\n",
      "Enter the make of the Automobile: Ford\n",
      "Enter the model of the Automobile: Mustang\n",
      "Enter the number of doors (2 or 4): 2\n",
      "Enter the type of roof (solid or sun roof): solid\n",
      "Vehicle type is car.\n",
      "The year of the vehicle is 1988.\n",
      "The make of the vehicle is Ford.\n",
      "The model of the vehicle is Mustang.\n",
      "The vehicle has 2 doors.\n",
      "The vehicle has a roof of type: solid.\n"
     ]
    }
   ],
   "source": [
    "# define superclass\n",
    "class Vehicle:\n",
    "    def __init__(self, vehicle_type): # initialize\n",
    "        self.vehicle_type = vehicle_type\n",
    "        \n",
    "# define derived class\n",
    "class Automobile(Vehicle):\n",
    "    def __init__(self, vehicle_type, year, make, model, doors, roof): #initialize\n",
    "        super().__init__(vehicle_type) # make sure this has a vehicle type ?\n",
    "        self.year = year\n",
    "        self.make = make\n",
    "        self.model = model\n",
    "        self.doors = doors\n",
    "        self.roof = roof\n",
    "\n",
    "def main():\n",
    "    vehicle_type = \"car\"\n",
    "    \n",
    "    year = input(\"Enter the year of the Automobile: \")\n",
    "    make = input(\"Enter the make of the Automobile: \")\n",
    "    model = input(\"Enter the model of the Automobile: \")\n",
    "    doors = input(\"Enter the number of doors (2 or 4): \")\n",
    "    roof = input(\"Enter the type of roof (solid or sun roof): \")\n",
    "    \n",
    "    car = Automobile(vehicle_type, year, make, model, doors, roof)\n",
    "    \n",
    "    print(f\"Vehicle type is {car.vehicle_type}.\")\n",
    "    print(f\"The year of the vehicle is {car.year}.\")\n",
    "    print(f\"The make of the vehicle is {car.make}.\")\n",
    "    print(f\"The model of the vehicle is {car.model}.\")\n",
    "    print(f\"The vehicle has {car.doors} doors.\")\n",
    "    print(f\"The vehicle has a roof of type: {car.roof}.\")\n",
    "#not sure why to do this\n",
    "if __name__ == \"__main__\":\n",
    "    main()\n"
   ]
  },
  {
   "cell_type": "code",
   "execution_count": null,
   "id": "367db7f3",
   "metadata": {},
   "outputs": [],
   "source": []
  }
 ],
 "metadata": {
  "kernelspec": {
   "display_name": "Python 3 (ipykernel)",
   "language": "python",
   "name": "python3"
  },
  "language_info": {
   "codemirror_mode": {
    "name": "ipython",
    "version": 3
   },
   "file_extension": ".py",
   "mimetype": "text/x-python",
   "name": "python",
   "nbconvert_exporter": "python",
   "pygments_lexer": "ipython3",
   "version": "3.11.4"
  }
 },
 "nbformat": 4,
 "nbformat_minor": 5
}
