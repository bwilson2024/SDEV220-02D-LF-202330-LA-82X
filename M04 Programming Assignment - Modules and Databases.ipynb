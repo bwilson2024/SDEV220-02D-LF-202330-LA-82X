{
 "cells": [
  {
   "cell_type": "code",
   "execution_count": 20,
   "id": "9abf7abb",
   "metadata": {},
   "outputs": [],
   "source": [
    "## 11.1 Create a file called zoo.py. In it, define a function called hours() that prints the string 'Open 9-5 daily'. \n",
    "## Then, use the interactive interpreter to import the zoo module and call its hours() function.\n",
    "## def hours():\n",
    "##    print('Office hours 9 - 5 daily')\n",
    "## saved in same directory as jupyter notebook"
   ]
  },
  {
   "cell_type": "code",
   "execution_count": null,
   "id": "ba305d19",
   "metadata": {},
   "outputs": [],
   "source": [
    "import zoo"
   ]
  },
  {
   "cell_type": "code",
   "execution_count": 21,
   "id": "9bbf4afd",
   "metadata": {},
   "outputs": [
    {
     "name": "stdout",
     "output_type": "stream",
     "text": [
      "Office hours 9 - 5 daily\n"
     ]
    }
   ],
   "source": [
    "zoo.hours()"
   ]
  },
  {
   "cell_type": "code",
   "execution_count": 22,
   "id": "85cd9d95",
   "metadata": {},
   "outputs": [],
   "source": [
    "## 11.2 In the interactive interpreter, import the zoo module as menagerie and call its hours() function."
   ]
  },
  {
   "cell_type": "code",
   "execution_count": 23,
   "id": "37adc3d8",
   "metadata": {},
   "outputs": [],
   "source": [
    "import zoo as menagerie"
   ]
  },
  {
   "cell_type": "code",
   "execution_count": 24,
   "id": "038f9b4a",
   "metadata": {},
   "outputs": [
    {
     "name": "stdout",
     "output_type": "stream",
     "text": [
      "Office hours 9 - 5 daily\n"
     ]
    }
   ],
   "source": [
    "menagerie.hours()"
   ]
  },
  {
   "cell_type": "code",
   "execution_count": null,
   "id": "43214691",
   "metadata": {},
   "outputs": [],
   "source": []
  },
  {
   "cell_type": "code",
   "execution_count": null,
   "id": "f91d4a10",
   "metadata": {},
   "outputs": [],
   "source": [
    "## 16.4 Use the sqlite3 module to create a SQLite database called books.db and\n",
    "## a table called books with these fields: title (text), author (text), and year (integer)."
   ]
  },
  {
   "cell_type": "code",
   "execution_count": 1,
   "id": "b0fa2711",
   "metadata": {},
   "outputs": [],
   "source": [
    "import sqlite3"
   ]
  },
  {
   "cell_type": "code",
   "execution_count": 2,
   "id": "73f7ca1e",
   "metadata": {},
   "outputs": [],
   "source": [
    "conn = sqlite3.connect('books.db')"
   ]
  },
  {
   "cell_type": "code",
   "execution_count": 3,
   "id": "d18cfe21",
   "metadata": {},
   "outputs": [],
   "source": [
    "curs = conn.cursor()"
   ]
  },
  {
   "cell_type": "code",
   "execution_count": 4,
   "id": "38d49d64",
   "metadata": {},
   "outputs": [
    {
     "ename": "OperationalError",
     "evalue": "table books already exists",
     "output_type": "error",
     "traceback": [
      "\u001b[1;31m---------------------------------------------------------------------------\u001b[0m",
      "\u001b[1;31mOperationalError\u001b[0m                          Traceback (most recent call last)",
      "Cell \u001b[1;32mIn[4], line 1\u001b[0m\n\u001b[1;32m----> 1\u001b[0m curs\u001b[38;5;241m.\u001b[39mexecute(\u001b[38;5;124m'''\u001b[39m\u001b[38;5;124mCREATE TABLE books\u001b[39m\n\u001b[0;32m      2\u001b[0m \u001b[38;5;124m    (title VARCHAR PRIMARY KEY,\u001b[39m\n\u001b[0;32m      3\u001b[0m \u001b[38;5;124m     author VARCHAR,\u001b[39m\n\u001b[0;32m      4\u001b[0m \u001b[38;5;124m     year INTEGER)\u001b[39m\u001b[38;5;124m'''\u001b[39m)\n",
      "\u001b[1;31mOperationalError\u001b[0m: table books already exists"
     ]
    }
   ],
   "source": [
    "curs.execute('''CREATE TABLE books\n",
    "    (title VARCHAR PRIMARY KEY,\n",
    "     author VARCHAR,\n",
    "     year INTEGER)''')"
   ]
  },
  {
   "cell_type": "code",
   "execution_count": 6,
   "id": "1d33d085",
   "metadata": {},
   "outputs": [],
   "source": [
    "conn.commit()"
   ]
  },
  {
   "cell_type": "code",
   "execution_count": 12,
   "id": "494bf134",
   "metadata": {},
   "outputs": [
    {
     "data": {
      "text/plain": [
       "<sqlite3.Cursor at 0x175787ee540>"
      ]
     },
     "execution_count": 12,
     "metadata": {},
     "output_type": "execute_result"
    }
   ],
   "source": [
    "curs.execute('INSERT INTO books VALUES(\"Chaos\", \"Eric Field\", 1999)')"
   ]
  },
  {
   "cell_type": "code",
   "execution_count": 13,
   "id": "b38aacf6",
   "metadata": {},
   "outputs": [],
   "source": [
    "conn.commit()"
   ]
  },
  {
   "cell_type": "code",
   "execution_count": 14,
   "id": "a24d62b8",
   "metadata": {},
   "outputs": [
    {
     "data": {
      "text/plain": [
       "<sqlite3.Cursor at 0x175787ee540>"
      ]
     },
     "execution_count": 14,
     "metadata": {},
     "output_type": "execute_result"
    }
   ],
   "source": [
    "curs.execute('SELECT * FROM books')"
   ]
  },
  {
   "cell_type": "code",
   "execution_count": 15,
   "id": "6551dcfa",
   "metadata": {},
   "outputs": [],
   "source": [
    "rows = curs.fetchall()"
   ]
  },
  {
   "cell_type": "code",
   "execution_count": 16,
   "id": "b74f1a5f",
   "metadata": {},
   "outputs": [
    {
     "name": "stdout",
     "output_type": "stream",
     "text": [
      "[('The Road less Travelled', 'Mark Twain', 1978), ('Chaos', 'Eric Field', 1999)]\n"
     ]
    }
   ],
   "source": [
    "print(rows)"
   ]
  },
  {
   "cell_type": "code",
   "execution_count": null,
   "id": "605e1126",
   "metadata": {},
   "outputs": [],
   "source": [
    "## 16.8 Use the sqlalchemy module to connect to the sqlite3 database books.db that you just made in exercise 16.4. \n",
    "##As in 16.6, select and print the title column from the book table in alphabetical order."
   ]
  },
  {
   "cell_type": "code",
   "execution_count": 84,
   "id": "2712322c",
   "metadata": {},
   "outputs": [],
   "source": [
    "import sqlalchemy as sa"
   ]
  },
  {
   "cell_type": "code",
   "execution_count": 17,
   "id": "dc5a6829",
   "metadata": {},
   "outputs": [],
   "source": [
    "from sqlalchemy import create_engine, text"
   ]
  },
  {
   "cell_type": "code",
   "execution_count": 19,
   "id": "569c941b",
   "metadata": {},
   "outputs": [],
   "source": [
    "engine = create_engine('sqlite:///books.db')"
   ]
  },
  {
   "cell_type": "code",
   "execution_count": null,
   "id": "4dbe5b10",
   "metadata": {},
   "outputs": [],
   "source": []
  },
  {
   "cell_type": "code",
   "execution_count": 20,
   "id": "299b3936",
   "metadata": {},
   "outputs": [],
   "source": [
    "rows2 = engine.execute('SELECT * FROM books ORDER BY title ASC;')"
   ]
  },
  {
   "cell_type": "code",
   "execution_count": 21,
   "id": "49da1b42",
   "metadata": {},
   "outputs": [],
   "source": [
    "with engine.connect() as connection:\n",
    "    result = connection.execute('SELECT * FROM books ORDER BY title ASC;')\n",
    "    rows2 = result.fetchall()"
   ]
  },
  {
   "cell_type": "code",
   "execution_count": 22,
   "id": "b5ef022f",
   "metadata": {},
   "outputs": [
    {
     "name": "stdout",
     "output_type": "stream",
     "text": [
      "('Chaos', 'Eric Field', 1999)\n",
      "('The Road less Travelled', 'Mark Twain', 1978)\n"
     ]
    }
   ],
   "source": [
    "for row in rows2:\n",
    "    print(row)"
   ]
  },
  {
   "cell_type": "code",
   "execution_count": 23,
   "id": "df3b9885",
   "metadata": {},
   "outputs": [
    {
     "name": "stdout",
     "output_type": "stream",
     "text": [
      "[('Chaos', 'Eric Field', 1999), ('The Road less Travelled', 'Mark Twain', 1978)]\n"
     ]
    }
   ],
   "source": [
    "print(rows2)"
   ]
  },
  {
   "cell_type": "code",
   "execution_count": null,
   "id": "cd32e58a",
   "metadata": {},
   "outputs": [],
   "source": []
  }
 ],
 "metadata": {
  "kernelspec": {
   "display_name": "Python 3 (ipykernel)",
   "language": "python",
   "name": "python3"
  },
  "language_info": {
   "codemirror_mode": {
    "name": "ipython",
    "version": 3
   },
   "file_extension": ".py",
   "mimetype": "text/x-python",
   "name": "python",
   "nbconvert_exporter": "python",
   "pygments_lexer": "ipython3",
   "version": "3.11.4"
  }
 },
 "nbformat": 4,
 "nbformat_minor": 5
}
