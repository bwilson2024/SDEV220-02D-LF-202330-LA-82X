{
 "cells": [
  {
   "cell_type": "code",
   "execution_count": 1,
   "id": "261f54f0",
   "metadata": {},
   "outputs": [],
   "source": [
    "## I did my work in VS Code."
   ]
  },
  {
   "cell_type": "code",
   "execution_count": null,
   "id": "730d490f",
   "metadata": {},
   "outputs": [],
   "source": [
    "## At the end of the notebook, describe the test results in your own words.  \n",
    "##What do the test results mean?\n",
    "\n",
    "PS C:\\Users\\Brand\\M05 Programming Assignment - Testing\\project> python -m unittest test \n",
    "F.\n",
    "======================================================================\n",
    "FAIL: test_list_fraction (test.TestSum.test_list_fraction)\n",
    "Test that it can sum a list of fractions\n",
    "----------------------------------------------------------------------\n",
    "Traceback (most recent call last):\n",
    "  File \"C:\\Users\\Brand\\M05 Programming Assignment - Testing\\project\\test.py\", line 22, in test_list_fraction\n",
    "    self.assertEqual(result, 1)\n",
    "AssertionError: Fraction(9, 10) != 1\n",
    "\n",
    "\n",
    "----------------------------------------------------------------------\n",
    "Ran 2 tests in 0.001s\n",
    "\n",
    "\n",
    "FAILED (failures=1)\n",
    "\n",
    "\n",
    "\n",
    "\n",
    "This shows the results of running a unit test using the unittest module. \n",
    "\n",
    "\n",
    "F.: one test failed; one test passed (.).\n",
    "FAIL: test_list_fraction (test.TestSum.test_list_fraction): this specifies the test case that failed.  The test case test_list_fraction within the TestSum test class failed.\n",
    "The traceback shows the line of code where the failure occurred (self.assertEqual(result, 1)). The test expected the result of 1; it was actually Fraction(9, 10).\n",
    "Ran 2 tests in 0.001s: This line indicates that the test executed a total of 2 test cases in 0.001 seconds.\n",
    "FAILED (failures=1): This says it failed with 1 failure.\n",
    "\n",
    "\n",
    "\n",
    "\n",
    "\n"
   ]
  }
 ],
 "metadata": {
  "kernelspec": {
   "display_name": "Python 3 (ipykernel)",
   "language": "python",
   "name": "python3"
  },
  "language_info": {
   "codemirror_mode": {
    "name": "ipython",
    "version": 3
   },
   "file_extension": ".py",
   "mimetype": "text/x-python",
   "name": "python",
   "nbconvert_exporter": "python",
   "pygments_lexer": "ipython3",
   "version": "3.11.4"
  }
 },
 "nbformat": 4,
 "nbformat_minor": 5
}
