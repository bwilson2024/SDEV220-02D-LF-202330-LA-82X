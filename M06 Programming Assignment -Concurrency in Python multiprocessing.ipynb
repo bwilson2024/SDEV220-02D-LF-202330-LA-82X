{
 "cells": [
  {
   "cell_type": "code",
   "execution_count": 8,
   "id": "f08c2c99",
   "metadata": {},
   "outputs": [],
   "source": [
    "##  15.1 Use multiprocessing to create three separate processes. \n",
    "## Make each one wait a random number of seconds between zero and one, print the current time, and then exit.\n",
    "## this first way didn't work"
   ]
  },
  {
   "cell_type": "code",
   "execution_count": 3,
   "id": "aa0a6c73",
   "metadata": {},
   "outputs": [
    {
     "name": "stdout",
     "output_type": "stream",
     "text": [
      "Main program process ID: 29360 - I'm the main program!\n",
      "processes complete\n"
     ]
    }
   ],
   "source": [
    "import multiprocessing\n",
    "import time\n",
    "import random\n",
    "from datetime import datetime\n",
    "import os\n",
    "\n",
    "def process_function():\n",
    "    # Get current process id\n",
    "    pid = os.getpid()\n",
    "    \n",
    "    # Generate a random number\n",
    "    wait_time = random.random()\n",
    "    \n",
    "    # Wait for the random amount of time\n",
    "    time.sleep(wait_time)\n",
    "    \n",
    "    # Get the time\n",
    "    current_time = datetime.now()\n",
    "    \n",
    "    # Try to print process ID, time; trying flush true toget it to print to jupyter notebook (not working)\n",
    "    print(f\"Current time is: {current_time}\", flush=True)\n",
    "\n",
    "if __name__ == \"__main__\":\n",
    "    # Print the main process ID\n",
    "    print(f\"Main program process ID: {os.getpid()} - I'm the main program!\")\n",
    "    \n",
    "# create processes like in teh book\n",
    "    process1 = multiprocessing.Process(target=process_function)\n",
    "    process2 = multiprocessing.Process(target=process_function)\n",
    "    process3 = multiprocessing.Process(target=process_function)\n",
    "    \n",
    "    # Start \n",
    "    process1.start()\n",
    "    process2.start()\n",
    "    process3.start()\n",
    "    \n",
    "    # Wait for all processes to finish\n",
    "    process1.join()\n",
    "    process2.join()\n",
    "    process3.join()\n",
    "    \n",
    "    print(\"processes complete\")"
   ]
  },
  {
   "cell_type": "code",
   "execution_count": 4,
   "id": "e286d9d1",
   "metadata": {},
   "outputs": [],
   "source": [
    "## above not working; not sure why; trying this other way"
   ]
  },
  {
   "cell_type": "code",
   "execution_count": 7,
   "id": "123287f5",
   "metadata": {},
   "outputs": [
    {
     "name": "stdout",
     "output_type": "stream",
     "text": [
      "Main program process ID: 29360 - I'm the main program!\n",
      "Process ID is: 29360 and the Current time is: 2024-04-26 11:49:02.572768\n",
      "Process ID is: 29360 and the Current time is: 2024-04-26 11:49:02.654896\n",
      "Process ID is: 29360 and the Current time is: 2024-04-26 11:49:02.913370\n",
      "All processes completed.\n"
     ]
    }
   ],
   "source": [
    "import multiprocessing\n",
    "import time\n",
    "import random\n",
    "from datetime import datetime\n",
    "import os\n",
    "\n",
    "if __name__ == \"__main__\":\n",
    "    print(f\"Main program process ID: {os.getpid()} - I'm the main program!\")\n",
    "    \n",
    "    # Process 1\n",
    "    pid1 = os.getpid()\n",
    "    wait_time1 = random.random()\n",
    "    time.sleep(wait_time1)\n",
    "    current_time1 = datetime.now()\n",
    "    print(f\"Process ID is: {pid1} and the Current time is: {current_time1}\")\n",
    "    \n",
    "    #Process 2\n",
    "    pid2 = os.getpid()\n",
    "    wait_time2 = random.random()\n",
    "    time.sleep(wait_time2)\n",
    "    current_time2 = datetime.now()\n",
    "    print(f\"Process ID is: {pid2} and the Current time is: {current_time2}\")\n",
    "    \n",
    "    # Process 3\n",
    "    pid3 = os.getpid()\n",
    "    wait_time3 = random.random()\n",
    "    time.sleep(wait_time3)\n",
    "    current_time3 = datetime.now()\n",
    "    print(f\"Process ID is: {pid3} and the Current time is: {current_time3}\")\n",
    "    \n",
    "    print(\"All processes completed.\")"
   ]
  },
  {
   "cell_type": "code",
   "execution_count": null,
   "id": "ab921178",
   "metadata": {},
   "outputs": [],
   "source": [
    "#the above way worked; not sure why"
   ]
  }
 ],
 "metadata": {
  "kernelspec": {
   "display_name": "Python 3 (ipykernel)",
   "language": "python",
   "name": "python3"
  },
  "language_info": {
   "codemirror_mode": {
    "name": "ipython",
    "version": 3
   },
   "file_extension": ".py",
   "mimetype": "text/x-python",
   "name": "python",
   "nbconvert_exporter": "python",
   "pygments_lexer": "ipython3",
   "version": "3.11.4"
  }
 },
 "nbformat": 4,
 "nbformat_minor": 5
}
