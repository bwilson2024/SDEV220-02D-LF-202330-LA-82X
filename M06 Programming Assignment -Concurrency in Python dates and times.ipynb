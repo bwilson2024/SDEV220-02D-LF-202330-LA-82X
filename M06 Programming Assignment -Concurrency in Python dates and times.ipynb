{
 "cells": [
  {
   "cell_type": "code",
   "execution_count": 1,
   "id": "93d98547",
   "metadata": {},
   "outputs": [],
   "source": [
    "## 13.1 Write the current date as a string to the text file today.txt."
   ]
  },
  {
   "cell_type": "code",
   "execution_count": 9,
   "id": "f320ed70",
   "metadata": {},
   "outputs": [
    {
     "name": "stdout",
     "output_type": "stream",
     "text": [
      "date_string is 2024-04-26\n"
     ]
    }
   ],
   "source": [
    "from datetime import date\n",
    "\n",
    "today = date.today()\n",
    "\n",
    "# Convert the date to string in format\n",
    "date_string = today.strftime(\"%Y-%m-%d\")\n",
    "print(f\"date_string is {date_string}\")\n",
    "\n",
    "# write to file\n",
    "with open(\"today.txt\", \"w\") as file:\n",
    "    file.write(date_string)"
   ]
  },
  {
   "cell_type": "code",
   "execution_count": 3,
   "id": "0da4a4bb",
   "metadata": {},
   "outputs": [],
   "source": [
    "## 13.2 Read the text file today.txt into the string today_string."
   ]
  },
  {
   "cell_type": "code",
   "execution_count": 10,
   "id": "7144fa80",
   "metadata": {},
   "outputs": [
    {
     "name": "stdout",
     "output_type": "stream",
     "text": [
      "Todays date: 2024-04-26\n"
     ]
    }
   ],
   "source": [
    "# open read mode\n",
    "with open(\"today.txt\", \"r\") as file:\n",
    "    # Read the content of the file into today_string\n",
    "    today_string = file.read()\n",
    "\n",
    "# Print\n",
    "print(\"Todays date:\", today_string)"
   ]
  },
  {
   "cell_type": "code",
   "execution_count": 5,
   "id": "ce30cc67",
   "metadata": {},
   "outputs": [],
   "source": [
    "## 13.3 Parse the date from today_string."
   ]
  },
  {
   "cell_type": "code",
   "execution_count": 13,
   "id": "c96c7dff",
   "metadata": {},
   "outputs": [
    {
     "name": "stdout",
     "output_type": "stream",
     "text": [
      "Parsed date: 2024-04-26\n"
     ]
    }
   ],
   "source": [
    "from datetime import datetime\n",
    "\n",
    "#Open file in read mode\n",
    "with open(\"today.txt\", \"r\") as file:\n",
    "    #read it\n",
    "    today_string = file.read()\n",
    "\n",
    "##Parse it using strptime\n",
    "date_format = \"%Y-%m-%d\"\n",
    "parsed_date = datetime.strptime(today_string, date_format).date()\n",
    "\n",
    "#print\n",
    "print(\"Parsed date:\", parsed_date)\n"
   ]
  },
  {
   "cell_type": "code",
   "execution_count": null,
   "id": "77427b69",
   "metadata": {},
   "outputs": [],
   "source": []
  }
 ],
 "metadata": {
  "kernelspec": {
   "display_name": "Python 3 (ipykernel)",
   "language": "python",
   "name": "python3"
  },
  "language_info": {
   "codemirror_mode": {
    "name": "ipython",
    "version": 3
   },
   "file_extension": ".py",
   "mimetype": "text/x-python",
   "name": "python",
   "nbconvert_exporter": "python",
   "pygments_lexer": "ipython3",
   "version": "3.11.4"
  }
 },
 "nbformat": 4,
 "nbformat_minor": 5
}
