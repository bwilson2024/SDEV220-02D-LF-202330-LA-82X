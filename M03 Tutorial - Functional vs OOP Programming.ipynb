{
 "cells": [
  {
   "cell_type": "code",
   "execution_count": 16,
   "id": "7be1212a",
   "metadata": {},
   "outputs": [],
   "source": [
    "## OOP Programming:"
   ]
  },
  {
   "cell_type": "code",
   "execution_count": 14,
   "id": "ea7c7496",
   "metadata": {},
   "outputs": [],
   "source": [
    "class ClassName:\n",
    "    pass\n",
    "    #Statement"
   ]
  },
  {
   "cell_type": "code",
   "execution_count": 15,
   "id": "55af55a0",
   "metadata": {},
   "outputs": [],
   "source": [
    "class Dog:\n",
    "    sound = \"bark\""
   ]
  },
  {
   "cell_type": "code",
   "execution_count": 7,
   "id": "5f529471",
   "metadata": {},
   "outputs": [
    {
     "name": "stdout",
     "output_type": "stream",
     "text": [
      "mammal\n",
      "I'm a mammal\n",
      "I'm a dog\n"
     ]
    }
   ],
   "source": [
    "# Python3 program to\n",
    "# demonstrate instantiating\n",
    "# a class\n",
    "class Dog:\n",
    "\n",
    "    # A simple class\n",
    "    # attribute\n",
    "    attr1 = \"mammal\"\n",
    "    attr2 = \"dog\"\n",
    "\n",
    "    # A sample method\n",
    "    def fun(self):\n",
    "        print(\"I'm a\", self.attr1)\n",
    "        print(\"I'm a\", self.attr2)\n",
    "\n",
    "\n",
    "# Driver code\n",
    "# Object instantiation\n",
    "Rodger = Dog()\n",
    "\n",
    "# Accessing class attributes\n",
    "# and method through objects\n",
    "print(Rodger.attr1)\n",
    "Rodger.fun()"
   ]
  },
  {
   "cell_type": "code",
   "execution_count": 8,
   "id": "8f6ee496",
   "metadata": {},
   "outputs": [
    {
     "name": "stdout",
     "output_type": "stream",
     "text": [
      "Hello my name is John and I work in GeeksForGeeks.\n"
     ]
    }
   ],
   "source": [
    "class GFG:\n",
    "    def __init__(self, name, company):\n",
    "        self.name = name\n",
    "        self.company = company\n",
    "\n",
    "    def show(self):\n",
    "        print(\"Hello my name is \" + self.name+\" and I\" +\n",
    "              \" work in \"+self.company+\".\")\n",
    "\n",
    "\n",
    "obj = GFG(\"John\", \"GeeksForGeeks\")\n",
    "obj.show()"
   ]
  },
  {
   "cell_type": "code",
   "execution_count": 9,
   "id": "556e0840",
   "metadata": {},
   "outputs": [
    {
     "name": "stdout",
     "output_type": "stream",
     "text": [
      "Hello my name is John and I work in GeeksForGeeks.\n"
     ]
    }
   ],
   "source": [
    "class GFG:\n",
    "    def __init__(somename, name, company):\n",
    "        somename.name = name\n",
    "        somename.company = company\n",
    "\n",
    "    def show(somename):\n",
    "        print(\"Hello my name is \" + somename.name +\n",
    "              \" and I work in \"+somename.company+\".\")\n",
    "\n",
    "\n",
    "obj = GFG(\"John\", \"GeeksForGeeks\")\n",
    "obj.show()"
   ]
  },
  {
   "cell_type": "code",
   "execution_count": 10,
   "id": "7e21004b",
   "metadata": {},
   "outputs": [
    {
     "name": "stdout",
     "output_type": "stream",
     "text": [
      "Hello, my name is Nikhil\n"
     ]
    }
   ],
   "source": [
    "# Sample class with init method\n",
    "class Person:\n",
    "\n",
    "    # init method or constructor\n",
    "    def __init__(self, name):\n",
    "        self.name = name\n",
    "\n",
    "    # Sample Method\n",
    "    def say_hi(self):\n",
    "        print('Hello, my name is', self.name)\n",
    "\n",
    "\n",
    "p = Person('Nikhil')\n",
    "p.say_hi()"
   ]
  },
  {
   "cell_type": "code",
   "execution_count": 11,
   "id": "1a3d9b75",
   "metadata": {},
   "outputs": [
    {
     "name": "stdout",
     "output_type": "stream",
     "text": [
      "My name is John and I work in GeeksForGeeks.\n"
     ]
    }
   ],
   "source": [
    "class GFG:\n",
    "    def __init__(self, name, company):\n",
    "        self.name = name\n",
    "        self.company = company\n",
    "\n",
    "    def __str__(self):\n",
    "        return f\"My name is {self.name} and I work in {self.company}.\"\n",
    "\n",
    "\n",
    "my_obj = GFG(\"John\", \"GeeksForGeeks\")\n",
    "print(my_obj)"
   ]
  },
  {
   "cell_type": "code",
   "execution_count": 12,
   "id": "cb2e3f9c",
   "metadata": {},
   "outputs": [
    {
     "name": "stdout",
     "output_type": "stream",
     "text": [
      "Rodger details:\n",
      "Rodger is a dog\n",
      "Breed:  Pug\n",
      "Color:  brown\n",
      "\n",
      "Buzo details:\n",
      "Buzo is a dog\n",
      "Breed:  Bulldog\n",
      "Color:  black\n",
      "\n",
      "Accessing class variable using class name\n",
      "dog\n"
     ]
    }
   ],
   "source": [
    "# Python3 program to show that the variables with a value\n",
    "# assigned in the class declaration, are class variables and\n",
    "# variables inside methods and constructors are instance\n",
    "# variables.\n",
    "\n",
    "# Class for Dog\n",
    "\n",
    "\n",
    "class Dog:\n",
    "\n",
    "    # Class Variable\n",
    "    animal = 'dog'\n",
    "\n",
    "    # The init method or constructor\n",
    "    def __init__(self, breed, color):\n",
    "\n",
    "        # Instance Variable\n",
    "        self.breed = breed\n",
    "        self.color = color\n",
    "\n",
    "\n",
    "# Objects of Dog class\n",
    "Rodger = Dog(\"Pug\", \"brown\")\n",
    "Buzo = Dog(\"Bulldog\", \"black\")\n",
    "\n",
    "print('Rodger details:')\n",
    "print('Rodger is a', Rodger.animal)\n",
    "print('Breed: ', Rodger.breed)\n",
    "print('Color: ', Rodger.color)\n",
    "\n",
    "print('\\nBuzo details:')\n",
    "print('Buzo is a', Buzo.animal)\n",
    "print('Breed: ', Buzo.breed)\n",
    "print('Color: ', Buzo.color)\n",
    "\n",
    "# Class variables can be accessed using class\n",
    "# name also\n",
    "print(\"\\nAccessing class variable using class name\")\n",
    "print(Dog.animal)"
   ]
  },
  {
   "cell_type": "code",
   "execution_count": 13,
   "id": "bea16bd7",
   "metadata": {},
   "outputs": [
    {
     "name": "stdout",
     "output_type": "stream",
     "text": [
      "brown\n"
     ]
    }
   ],
   "source": [
    "# Python3 program to show that we can create\n",
    "# instance variables inside methods\n",
    "\n",
    "# Class for Dog\n",
    "\n",
    "\n",
    "class Dog:\n",
    "\n",
    "    # Class Variable\n",
    "    animal = 'dog'\n",
    "\n",
    "    # The init method or constructor\n",
    "    def __init__(self, breed):\n",
    "\n",
    "        # Instance Variable\n",
    "        self.breed = breed\n",
    "\n",
    "    # Adds an instance variable\n",
    "    def setColor(self, color):\n",
    "        self.color = color\n",
    "\n",
    "    # Retrieves instance variable\n",
    "    def getColor(self):\n",
    "        return self.color\n",
    "\n",
    "\n",
    "# Driver Code\n",
    "Rodger = Dog(\"pug\")\n",
    "Rodger.setColor(\"brown\")\n",
    "print(Rodger.getColor())"
   ]
  },
  {
   "cell_type": "code",
   "execution_count": 17,
   "id": "28396122",
   "metadata": {},
   "outputs": [],
   "source": [
    "## Functional Programming"
   ]
  },
  {
   "cell_type": "code",
   "execution_count": 19,
   "id": "56b57235",
   "metadata": {},
   "outputs": [
    {
     "name": "stdout",
     "output_type": "stream",
     "text": [
      "Odd number\n"
     ]
    }
   ],
   "source": [
    "calc = lambda num: \"Even number\" if num % 2 == 0 else \"Odd number\"\n",
    "\n",
    "print(calc(19))\n"
   ]
  },
  {
   "cell_type": "code",
   "execution_count": 20,
   "id": "664448bd",
   "metadata": {},
   "outputs": [
    {
     "name": "stdout",
     "output_type": "stream",
     "text": [
      "<function <lambda> at 0x00000205AC275C60>\n"
     ]
    }
   ],
   "source": [
    "string = 'GeeksforGeeks'\n",
    "\n",
    "# lambda returns a function object\n",
    "print(lambda string: string)\n"
   ]
  },
  {
   "cell_type": "code",
   "execution_count": 21,
   "id": "5f65f5b5",
   "metadata": {},
   "outputs": [
    {
     "name": "stdout",
     "output_type": "stream",
     "text": [
      "filter_nums(): Geeks\n",
      "do_exclaim(): I am tired!\n",
      "find_sum(): 2\n"
     ]
    }
   ],
   "source": [
    "filter_nums = lambda s: ''.join([ch for ch in s if not ch.isdigit()])\n",
    "print(\"filter_nums():\", filter_nums(\"Geeks101\"))\n",
    "\n",
    "do_exclaim = lambda s: s + '!'\n",
    "print(\"do_exclaim():\", do_exclaim(\"I am tired\"))\n",
    "\n",
    "find_sum = lambda n: sum([int(x) for x in str(n)])\n",
    "print(\"find_sum():\", find_sum(101))\n"
   ]
  },
  {
   "cell_type": "code",
   "execution_count": 22,
   "id": "8ea494c0",
   "metadata": {},
   "outputs": [
    {
     "name": "stdout",
     "output_type": "stream",
     "text": [
      "invoking function defined with def keyword:\n",
      "Finding cube of number:30\n",
      "27000\n",
      "invoking lambda function: 27000\n"
     ]
    }
   ],
   "source": [
    "def cube(y):\n",
    "\tprint(f\"Finding cube of number:{y}\")\n",
    "\treturn y * y * y\n",
    "\n",
    "\n",
    "lambda_cube = lambda num: num ** 3\n",
    "\n",
    "# invoking simple function\n",
    "print(\"invoking function defined with def keyword:\")\n",
    "print(cube(30))\n",
    "# invoking lambda function\n",
    "print(\"invoking lambda function:\", lambda_cube(30))\n"
   ]
  },
  {
   "cell_type": "code",
   "execution_count": 23,
   "id": "13333988",
   "metadata": {},
   "outputs": [
    {
     "name": "stdout",
     "output_type": "stream",
     "text": [
      "Sorted numerically: ['-2', '-1', '0', '1', '2', '9']\n",
      "Filtered positive even numbers: ['1', '9', '0', '-1', '-2']\n",
      "Operation on each item using lambda and map() ['11', '12', '19', '10', '9', '8']\n"
     ]
    }
   ],
   "source": [
    "l = [\"1\", \"2\", \"9\", \"0\", \"-1\", \"-2\"]\n",
    "# sort list[str] numerically using sorted()\n",
    "# and custom sorting key using lambda\n",
    "print(\"Sorted numerically:\",\n",
    "\tsorted(l, key=lambda x: int(x)))\n",
    "\n",
    "# filter positive even numbers\n",
    "# using filter() and lambda function\n",
    "print(\"Filtered positive even numbers:\", \n",
    "\tlist(filter(lambda x: not (int(x) % 2 == 0 and int(x) > 0), l)))\n",
    "\n",
    "# added 10 to each item after type and\n",
    "# casting to int, then convert items to string again\n",
    "print(\"Operation on each item using lambda and map()\",\n",
    "\tlist(map(lambda x: str(int(x) + 10), l)))\n"
   ]
  },
  {
   "cell_type": "code",
   "execution_count": 24,
   "id": "460df2c0",
   "metadata": {},
   "outputs": [
    {
     "name": "stdout",
     "output_type": "stream",
     "text": [
      "[1, 3, 5]\n"
     ]
    }
   ],
   "source": [
    "# Example list\n",
    "my_list = [1, 2, 3, 4, 5]\n",
    "\n",
    "# Use lambda to filter out even numbers from the list\n",
    "new_list = list(filter(lambda x: x % 2 != 0, my_list))\n",
    "\n",
    "# Print the new list\n",
    "print(new_list)\n"
   ]
  },
  {
   "cell_type": "code",
   "execution_count": null,
   "id": "16acf000",
   "metadata": {},
   "outputs": [],
   "source": []
  }
 ],
 "metadata": {
  "kernelspec": {
   "display_name": "Python 3 (ipykernel)",
   "language": "python",
   "name": "python3"
  },
  "language_info": {
   "codemirror_mode": {
    "name": "ipython",
    "version": 3
   },
   "file_extension": ".py",
   "mimetype": "text/x-python",
   "name": "python",
   "nbconvert_exporter": "python",
   "pygments_lexer": "ipython3",
   "version": "3.11.4"
  }
 },
 "nbformat": 4,
 "nbformat_minor": 5
}
